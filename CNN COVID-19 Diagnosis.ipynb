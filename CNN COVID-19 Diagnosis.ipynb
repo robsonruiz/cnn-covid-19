{
 "cells": [
  {
   "cell_type": "markdown",
   "metadata": {},
   "source": [
    "## Dataset: <a href=\"https://www.kaggle.com/plameneduardo/sarscov2-ctscan-dataset\"> SARS-COV-2 Ct-Scan Dataset </a>"
   ]
  },
  {
   "cell_type": "markdown",
   "metadata": {},
   "source": [
    "## Requisitos"
   ]
  },
  {
   "cell_type": "code",
   "execution_count": null,
   "metadata": {},
   "outputs": [],
   "source": [
    "pip install Keras"
   ]
  },
  {
   "cell_type": "code",
   "execution_count": null,
   "metadata": {},
   "outputs": [],
   "source": [
    "pip install tensorflow"
   ]
  },
  {
   "cell_type": "markdown",
   "metadata": {},
   "source": [
    "## Importações"
   ]
  },
  {
   "cell_type": "code",
   "execution_count": null,
   "metadata": {},
   "outputs": [],
   "source": [
    "import os\n",
    "import cv2\n",
    "import pandas as pd\n",
    "import matplotlib.pyplot as plt\n",
    "import numpy as np\n",
    "from skimage.transform import resize"
   ]
  },
  {
   "cell_type": "markdown",
   "metadata": {},
   "source": [
    "## Carregamento e redimensionamento das imagens"
   ]
  },
  {
   "cell_type": "code",
   "execution_count": null,
   "metadata": {},
   "outputs": [],
   "source": [
    "datadir = \"C:\\\\Users\\\\robso\\\\CNN COVID-19\\\\\"\n",
    "categories = ['NON-COVID', 'COVID']\n",
    "x = []\n",
    "y = []\n",
    "\n",
    "for category in categories:\n",
    "    path = os.path.join(datadir, category)\n",
    "    for image in os.listdir(path):\n",
    "        images = cv2.imread(os.path.join(path, image), cv2.IMREAD_GRAYSCALE)\n",
    "        images = resize(images, (256, 256, 3), mode = 'constant', preserve_range = True)\n",
    "        x.append(images)\n",
    "        y.append(categories.index(category))"
   ]
  },
  {
   "cell_type": "code",
   "execution_count": null,
   "metadata": {},
   "outputs": [],
   "source": [
    "noncovid = 0\n",
    "covid = 0\n",
    "\n",
    "for i in range(len(x)):\n",
    "    if y[i] == 0:\n",
    "        noncovid = noncovid + 1\n",
    "    elif y[i] == 1:\n",
    "        covid = covid + 1\n",
    "        \n",
    "print(\"Número de imagens: \", len(x))\n",
    "print(\"Número de imagens de COVID-19 negativo: \", noncovid)\n",
    "print(\"Número de imagens de COVID-19 positivo: \", covid)"
   ]
  },
  {
   "cell_type": "code",
   "execution_count": null,
   "metadata": {},
   "outputs": [],
   "source": [
    "y = np.array(y)\n",
    "X = np.zeros(((len(x), 256, 256, 3)), dtype='uint8')\n",
    "\n",
    "for i in range(len(x)):\n",
    "    X[i,:,:]=x[i]/255"
   ]
  },
  {
   "cell_type": "markdown",
   "metadata": {},
   "source": [
    "## Importações necessárias para a construção da CNN e disponibilização dos resultados"
   ]
  },
  {
   "cell_type": "code",
   "execution_count": null,
   "metadata": {},
   "outputs": [],
   "source": [
    "import keras\n",
    "from keras import layers\n",
    "from keras.models import Sequential\n",
    "from keras.layers import Conv2D, MaxPool2D, Dense, Dropout, Flatten\n",
    "from keras.optimizers import Adam\n",
    "from sklearn.model_selection import train_test_split\n",
    "from sklearn.metrics import confusion_matrix\n",
    "import seaborn as sns"
   ]
  },
  {
   "cell_type": "markdown",
   "metadata": {},
   "source": [
    "## Separação entre treino e teste"
   ]
  },
  {
   "cell_type": "code",
   "execution_count": null,
   "metadata": {},
   "outputs": [],
   "source": [
    "x_train, x_test, y_train, y_test = train_test_split(X, y, test_size=0.25, random_state=42)"
   ]
  },
  {
   "cell_type": "code",
   "execution_count": null,
   "metadata": {},
   "outputs": [],
   "source": [
    "print(\"Imagens de treino: \", len(x_train))\n",
    "print(\"Imagens de teste: \", len(x_test))"
   ]
  },
  {
   "cell_type": "markdown",
   "metadata": {},
   "source": [
    "## Construção do modelo"
   ]
  },
  {
   "cell_type": "code",
   "execution_count": null,
   "metadata": {},
   "outputs": [],
   "source": [
    "model = Sequential()\n",
    "\n",
    "model.add(Conv2D(filters=32, kernel_size=(5,5), padding='same', activation='relu', input_shape=(256, 256, 3)))\n",
    "model.add(MaxPool2D(pool_size=(2,2)))\n",
    "\n",
    "model.add(Conv2D(filters=48, kernel_size=(5,5), padding='valid', activation='relu'))\n",
    "model.add(MaxPool2D(pool_size=(2,2)))\n",
    "\n",
    "model.add(Conv2D(filters=64, kernel_size=(5,5), padding='valid', activation='relu'))\n",
    "model.add(MaxPool2D(pool_size=(2,2)))\n",
    "\n",
    "model.add(Flatten())\n",
    "\n",
    "model.add(Dropout(0.7))\n",
    "model.add(Dense(128, activation='relu'))\n",
    "\n",
    "model.add(Dropout(0.7))\n",
    "model.add(Dense(1, activation='sigmoid'))\n",
    "\n",
    "model.compile(loss='binary_crossentropy', optimizer=Adam(lr=0.0001), metrics=['accuracy'])\n",
    "\n",
    "model.summary()"
   ]
  },
  {
   "cell_type": "markdown",
   "metadata": {},
   "source": [
    "## Treinamento da rede"
   ]
  },
  {
   "cell_type": "code",
   "execution_count": null,
   "metadata": {},
   "outputs": [],
   "source": [
    "results = model.fit(x_train, y_train, epochs=30, validation_data=(x_test,y_test), batch_size=8)"
   ]
  },
  {
   "cell_type": "markdown",
   "metadata": {},
   "source": [
    "## Gráficos de acurácia e perda"
   ]
  },
  {
   "cell_type": "code",
   "execution_count": null,
   "metadata": {},
   "outputs": [],
   "source": [
    "plt.figure(figsize=(10,5))\n",
    "\n",
    "plt.subplot(121)\n",
    "plt.title('Acurácia')\n",
    "plt.ylabel('Acurácia')\n",
    "plt.xlabel('Época')\n",
    "plt.plot(results.history['accuracy'])\n",
    "plt.plot(results.history['val_accuracy'])\n",
    "plt.legend(['Treino', 'Validação'], loc='upper left')\n",
    "\n",
    "plt.subplot(122)\n",
    "plt.title('Perda')\n",
    "plt.ylabel('Perda')\n",
    "plt.xlabel('Época')\n",
    "plt.plot(results.history['loss'])\n",
    "plt.plot(results.history['val_loss'])\n",
    "plt.legend(['Treino', 'Validação'], loc='upper left')\n",
    "\n",
    "plt.show()"
   ]
  },
  {
   "cell_type": "markdown",
   "metadata": {},
   "source": [
    "## Teste da rede"
   ]
  },
  {
   "cell_type": "code",
   "execution_count": null,
   "metadata": {},
   "outputs": [],
   "source": [
    "y_pred = model.predict(x_test)\n",
    "y_pred = np.round(y_pred)\n",
    "\n",
    "cmat=confusion_matrix(y_test,y_pred,labels=[0,1])\n",
    "cm_df = pd.DataFrame(cmat)\n",
    "\n",
    "tp = cmat[1][1]\n",
    "fp = cmat[0][1]\n",
    "tn = cmat[0][0]\n",
    "fn = cmat[1][0]\n",
    "\n",
    "accuracy = ((tp+tn)*100)/np.sum(cmat)\n",
    "precision = (tp*100)/(tp+fp)\n",
    "sensibility = (tp*100/(tp+fn))\n",
    "specificity = (tn*100)/(fp+tn)\n",
    "\n",
    "print('Métrica de avaliação\\t\\tResultado')\n",
    "print('---------------------------------------------')\n",
    "print('Acurácia:\\t\\t',accuracy,\"%\")\n",
    "print('Precisão:\\t\\t',precision,\"%\")\n",
    "\n",
    "print('Sensibilidade:\\t\\t',sensibility,\"%\")\n",
    "print('Especificidade:\\t\\t',specificity,\"%\")\n",
    "                   \n",
    "plt.title('Teste')\n",
    "sns.heatmap(cm_df, annot=True, fmt=\"d\", cmap=plt.cm.Oranges)\n",
    "plt.show()"
   ]
  }
 ],
 "metadata": {
  "kernelspec": {
   "display_name": "Python 3",
   "language": "python",
   "name": "python3"
  },
  "language_info": {
   "codemirror_mode": {
    "name": "ipython",
    "version": 3
   },
   "file_extension": ".py",
   "mimetype": "text/x-python",
   "name": "python",
   "nbconvert_exporter": "python",
   "pygments_lexer": "ipython3",
   "version": "3.8.5"
  }
 },
 "nbformat": 4,
 "nbformat_minor": 4
}
